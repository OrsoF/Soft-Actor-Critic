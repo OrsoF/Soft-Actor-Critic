{
  "cells": [
    {
      "cell_type": "markdown",
      "metadata": {
        "id": "_biXpft6Vp2t"
      },
      "source": [
        "# Installation"
      ]
    },
    {
      "cell_type": "code",
      "execution_count": 1,
      "metadata": {
        "id": "WwQ4kq40VU5b"
      },
      "outputs": [],
      "source": [
        "!pip install --upgrade pip\n",
        "!pip install --upgrade \"jax[cuda]\" -f https://storage.googleapis.com/jax-releases/jax_releases.html\n",
        "\n",
        "# Standard installs\n",
        "!pip install dm-acme\n",
        "!pip install dm-acme[reverb]\n",
        "!pip install dm-acme[jax]\n",
        "!pip install dm-acme[tf]\n",
        "!pip install dm-acme[envs]\n",
        "!pip install dm-env\n",
        "!pip install dm-haiku\n",
        "!pip install dm-tree\n",
        "!pip install chex\n",
        "!sudo apt-get install -y xvfb ffmpeg\n",
        "!pip install imageio\n",
        "!pip install gym\n",
        "!pip install gym[classic_control]\n",
        "\n",
        "!apt-get install x11-utils\n",
        "!pip install pyglet\n",
        "\n",
        "!pip install gym pyvirtualdisplay\n",
        "\n",
        "from IPython.display import clear_output\n",
        "clear_output()"
      ]
    },
    {
      "cell_type": "code",
      "execution_count": 2,
      "metadata": {
        "id": "Kr2wD3m54Ucu"
      },
      "outputs": [],
      "source": [
        "!unset LD_PRELOAD\n",
        "import os\n",
        "%set_env LD_LIBRARY_PATH=$LD_LIBRARY_PATH:/usr/lib/nvidia\n",
        "if not os.path.exists('.mujoco_setup_complete'):\n",
        "  # Get the prereqs\n",
        "  !apt-get -qq update\n",
        "  !apt-get -qq install -y libosmesa6-dev libgl1-mesa-glx libglfw3 libgl1-mesa-dev libglew-dev patchelf\n",
        "  # Get Mujoco\n",
        "  !mkdir ~/.mujoco\n",
        "  !wget -q https://mujoco.org/download/mujoco210-linux-x86_64.tar.gz -O mujoco.tar.gz\n",
        "  !tar -zxf mujoco.tar.gz -C \"$HOME/.mujoco\"\n",
        "  !rm mujoco.tar.gz\n",
        "  # Add it to the actively loaded path and the bashrc path (these only do so much)\n",
        "  !echo 'export LD_LIBRARY_PATH=$LD_LIBRARY_PATH:$HOME/.mujoco/mujoco210/bin' >> ~/.bashrc \n",
        "  !echo 'export LD_PRELOAD=$LD_PRELOAD:/usr/lib/x86_64-linux-gnu/libGLEW.so' >> ~/.bashrc \n",
        "  # THE ANNOYING ONE, FORCE IT INTO LDCONFIG SO WE ACTUALLY GET ACCESS TO IT THIS SESSION\n",
        "  !echo \"/root/.mujoco/mujoco210/bin\" > /etc/ld.so.conf.d/mujoco_ld_lib_path.conf\n",
        "  !ldconfig\n",
        "  # Install Mujoco-py\n",
        "  !pip3 install -U 'mujoco-py<2.2,>=2.1'\n",
        "  # run once\n",
        "  !touch .mujoco_setup_complete\n",
        "\n",
        "try:\n",
        "  if _mujoco_run_once:\n",
        "    pass\n",
        "except NameError:\n",
        "  _mujoco_run_once = False\n",
        "if not _mujoco_run_once:\n",
        "  # Add it to the actively loaded path and the bashrc path (these only do so much)\n",
        "  try:\n",
        "    os.environ['LD_LIBRARY_PATH']=os.environ['LD_LIBRARY_PATH'] + ':/root/.mujoco/mujoco210/bin'\n",
        "  except KeyError:\n",
        "    os.environ['LD_LIBRARY_PATH']='/root/.mujoco/mujoco210/bin'\n",
        "  try:\n",
        "    os.environ['LD_PRELOAD']=os.environ['LD_PRELOAD'] + ':/usr/lib/x86_64-linux-gnu/libGLEW.so'\n",
        "  except KeyError:\n",
        "    os.environ['LD_PRELOAD']='/usr/lib/x86_64-linux-gnu/libGLEW.so'\n",
        "  # presetup so we don't see output on first env initialization\n",
        "  import mujoco_py\n",
        "  _mujoco_run_once = True\n",
        "\n",
        "clear_output()"
      ]
    },
    {
      "cell_type": "markdown",
      "metadata": {
        "id": "tZuV_wnvVuVs"
      },
      "source": [
        "# Imports"
      ]
    },
    {
      "cell_type": "code",
      "execution_count": 3,
      "metadata": {
        "id": "XHrJW-cBVhzw"
      },
      "outputs": [],
      "source": [
        "%matplotlib inline\n",
        "import IPython\n",
        "from IPython.display import HTML\n",
        "from IPython import display as ipythondisplay\n",
        "\n",
        "import acme\n",
        "from acme import datasets\n",
        "from acme import types\n",
        "from acme import specs\n",
        "from acme.wrappers import gym_wrapper\n",
        "import base64\n",
        "from base64 import b64encode\n",
        "import chex\n",
        "import collections\n",
        "from collections import namedtuple\n",
        "import dm_env\n",
        "import enum\n",
        "import functools\n",
        "import gym\n",
        "import haiku as hk\n",
        "import imageio\n",
        "import io\n",
        "import itertools\n",
        "import jax\n",
        "from jax import tree_util\n",
        "import optax\n",
        "import jax.numpy as jnp\n",
        "import matplotlib.pyplot as plt\n",
        "import multiprocessing as mp\n",
        "import multiprocessing.connection\n",
        "import numpy as np\n",
        "import pandas as pd\n",
        "import random\n",
        "import reverb\n",
        "import rlax\n",
        "import time\n",
        "import tree\n",
        "from typing import *\n",
        "import warnings\n",
        "import pyglet\n",
        "pyglet.options['search_local_libs'] = False\n",
        "pyglet.options['shadow_window']=False\n",
        "from pyglet.window import xlib\n",
        "xlib._have_utf8 = False\n",
        "\n",
        "from pyvirtualdisplay import Display\n",
        "display = Display(visible=False, size=(1400, 900))\n",
        "display.start()\n",
        "\n",
        "import mujoco_py\n",
        " \n",
        "np.set_printoptions(precision=3, suppress=1)\n",
        "\n",
        "%matplotlib inline"
      ]
    },
    {
      "cell_type": "markdown",
      "metadata": {
        "id": "9iYuG8Q0WUoJ"
      },
      "source": [
        "# Environments"
      ]
    },
    {
      "cell_type": "markdown",
      "metadata": {
        "id": "vx9J5BG7WW2x"
      },
      "source": [
        "## Inverted pendulum"
      ]
    },
    {
      "cell_type": "markdown",
      "metadata": {
        "id": "tM-pJpXfZq71"
      },
      "source": [
        "### Environment wrapper"
      ]
    },
    {
      "cell_type": "code",
      "execution_count": 4,
      "metadata": {
        "id": "gg8NBuIbWFw8"
      },
      "outputs": [],
      "source": [
        "class PendulumEnv(dm_env.Environment):\n",
        "  def __init__(self, for_evaluation: bool) -> None:\n",
        "    self._env = gym.make('Pendulum-v0')\n",
        "    self._for_evaluation = for_evaluation\n",
        "    if self._for_evaluation:\n",
        "      self.screens = []\n",
        "\n",
        "  def step(self, action: chex.ArrayNumpy) -> dm_env.TimeStep:\n",
        "    new_obs, reward, done, _ = self._env.step(action)\n",
        "    if self._for_evaluation:\n",
        "      self.screens.append(self._env.render(mode='rgb_array'))\n",
        "    if done:\n",
        "      return dm_env.termination(reward, new_obs)\n",
        "    return dm_env.transition(reward, new_obs)\n",
        "\n",
        "  def reset(self) -> dm_env.TimeStep:\n",
        "    obs = self._env.reset()\n",
        "    if self._for_evaluation:\n",
        "      self.screens.append(self._env.render(mode='rgb_array'))\n",
        "    return dm_env.restart(obs)\n",
        "\n",
        "  def observation_spec(self) -> specs.BoundedArray:\n",
        "    return specs.BoundedArray(shape=(3,), minimum=-8., maximum=8., dtype=np.float32)\n",
        "\n",
        "  def action_spec(self) -> specs.BoundedArray:\n",
        "    return specs.BoundedArray(shape=(1,), minimum=-2., maximum=2., dtype=np.float32)\n",
        "\n",
        "  def close(self) -> None:\n",
        "    self._env.close()"
      ]
    },
    {
      "cell_type": "markdown",
      "metadata": {
        "id": "8wjjnI0aZvsj"
      },
      "source": [
        "### Visualizing with random agent"
      ]
    },
    {
      "cell_type": "code",
      "execution_count": 5,
      "metadata": {
        "id": "851QdjWwZ96r"
      },
      "outputs": [],
      "source": [
        "import abc\n",
        "\n",
        "@chex.dataclass\n",
        "class Trajectory:\n",
        "  observations: types.NestedArray  # [T, B, ...]\n",
        "  actions: types.NestedArray  # [T, B, ...]\n",
        "  rewards: chex.ArrayNumpy  # [T, B]\n",
        "  dones: chex.ArrayNumpy  # [T, B]\n",
        "  discounts: chex.ArrayNumpy # [T, B]\n",
        "\n",
        "# A very simple agent API, with just enough to interact with the environment\n",
        "# and to update its potential parameters.\n",
        "class Agent(abc.ABC):\n",
        "  @abc.abstractmethod\n",
        "  def learner_step(self, trajectory: Trajectory) -> Mapping[str, chex.ArrayNumpy]:\n",
        "    \"\"\"One step of learning on a trajectory.\n",
        "    \n",
        "    The mapping returned can contain various logs.\n",
        "    \"\"\"\n",
        "    pass\n",
        "\n",
        "  @abc.abstractmethod\n",
        "  def batched_actor_step(self, observations: types.NestedArray) -> types.NestedArray:\n",
        "    \"\"\"Returns actions in response to observations.\n",
        "    \n",
        "    Observations are assumed to be batched, i.e. they are typically arrays, or\n",
        "    nests (think nested dictionaries) of arrays with shape (B, F_1, F_2, ...)\n",
        "    where B is the batch size, and F_1, F_2, ... are feature dimensions.\n",
        "    \"\"\"\n",
        "    pass\n"
      ]
    },
    {
      "cell_type": "code",
      "execution_count": 6,
      "metadata": {
        "id": "0cRhKc6aZqFc"
      },
      "outputs": [],
      "source": [
        "class RandomAgentPendulum(Agent):\n",
        "  def __init__(self, environment_spec: specs.EnvironmentSpec) -> None:\n",
        "    self.action_spec = environment_spec.actions\n",
        "\n",
        "  def batched_actor_step(self, observation: types.NestedArray) -> types.NestedArray:\n",
        "    batch_size = tree.flatten(observation)[0].shape[0]\n",
        "    return [[4*np.random.random() - 2] for _ in range(batch_size)]\n",
        "\n",
        "  def learner_step(self, trajectory: Trajectory) -> Mapping[str, chex.ArrayNumpy]:\n",
        "    pass"
      ]
    },
    {
      "cell_type": "code",
      "execution_count": 7,
      "metadata": {
        "id": "icdZD3IzaSkZ"
      },
      "outputs": [],
      "source": [
        "def simple_interaction_loop(agent: Agent, environment: dm_env.Environment, max_num_steps: int = 5000) -> None:\n",
        "  ts = environment.reset()\n",
        "  for _ in range(max_num_steps):\n",
        "    if ts.last():\n",
        "      break\n",
        "\n",
        "    batched_observation = tree.map_structure(lambda x: x[None], ts.observation)\n",
        "    action = agent.batched_actor_step(batched_observation)[0]  # batch size = 1\n",
        "    ts = environment.step(action)\n",
        "\n",
        "pendulum_environment = PendulumEnv(for_evaluation=True)\n",
        "pendulum_environment_spec = acme.make_environment_spec(pendulum_environment)\n",
        "pendulum_random_agent = RandomAgentPendulum(pendulum_environment_spec)\n",
        "\n",
        "simple_interaction_loop(pendulum_random_agent, pendulum_environment, 5000)"
      ]
    },
    {
      "cell_type": "code",
      "execution_count": 8,
      "metadata": {
        "id": "XzvveisZaZFG"
      },
      "outputs": [],
      "source": [
        "def display_video(frames, filename='temp.mp4', frame_repeat=1):\n",
        "  \"\"\"Save and display video.\"\"\"\n",
        "  # Write video\n",
        "  with imageio.get_writer(filename, fps=60) as video:\n",
        "    for frame in frames:\n",
        "      for _ in range(frame_repeat):\n",
        "        video.append_data(frame)\n",
        "  # Read video and display the video\n",
        "  video = open(filename, 'rb').read()\n",
        "  b64_video = base64.b64encode(video)\n",
        "  video_tag = ('<video  width=\"320\" height=\"240\" controls alt=\"test\" '\n",
        "               'src=\"data:video/mp4;base64,{0}\">').format(b64_video.decode())\n",
        "  return IPython.display.HTML(video_tag)"
      ]
    },
    {
      "cell_type": "code",
      "execution_count": 9,
      "metadata": {
        "colab": {
          "base_uri": "https://localhost:8080/",
          "height": 299
        },
        "id": "jEl80UB0aerI",
        "outputId": "4ec8056b-b353-4b81-9820-244781768373"
      },
      "outputs": [
        {
          "output_type": "stream",
          "name": "stderr",
          "text": [
            "WARNING:root:IMAGEIO FFMPEG_WRITER WARNING: input image is not divisible by macro_block_size=16, resizing from (500, 500) to (512, 512) to ensure video compatibility with most codecs and players. To prevent resizing, make your input image divisible by the macro_block_size or set the macro_block_size to None (risking incompatibility). You may also see a FFMPEG warning concerning speedloss due to data not being aligned.\n"
          ]
        },
        {
          "output_type": "execute_result",
          "data": {
            "text/plain": [
              "<IPython.core.display.HTML object>"
            ],
            "text/html": [
              "<video  width=\"320\" height=\"240\" controls alt=\"test\" src=\"data:video/mp4;base64,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\">"
            ]
          },
          "metadata": {},
          "execution_count": 9
        }
      ],
      "source": [
        "display_video(np.stack(pendulum_environment.screens, axis=0))"
      ]
    },
    {
      "cell_type": "markdown",
      "metadata": {
        "id": "Orl4gM_ialNS"
      },
      "source": [
        "## Reacher-v1"
      ]
    },
    {
      "cell_type": "markdown",
      "metadata": {
        "id": "b8EHj8CQar0y"
      },
      "source": [
        "### Environment wrapper"
      ]
    },
    {
      "cell_type": "code",
      "execution_count": 10,
      "metadata": {
        "id": "nIOgeg35WeIC"
      },
      "outputs": [],
      "source": [
        "class ReacherEnv(dm_env.Environment):\n",
        "  def __init__(self, for_evaluation: bool) -> None:\n",
        "    self._env = gym.make('Reacher-v2')\n",
        "    self._for_evaluation = for_evaluation\n",
        "    if self._for_evaluation:\n",
        "      self.screens = []\n",
        "\n",
        "  def step(self, action: chex.ArrayNumpy) -> dm_env.TimeStep:\n",
        "    new_obs, reward, done, _ = self._env.step(action)\n",
        "    if self._for_evaluation:\n",
        "      self.screens.append(self._env.render(mode='rgb_array'))\n",
        "    if done:\n",
        "      return dm_env.termination(reward, new_obs)\n",
        "    return dm_env.transition(reward, new_obs)\n",
        "\n",
        "  def reset(self) -> dm_env.TimeStep:\n",
        "    obs = self._env.reset()\n",
        "    if self._for_evaluation:\n",
        "      self.screens.append(self._env.render(mode='rgb_array'))\n",
        "    return dm_env.restart(obs)\n",
        "\n",
        "  def observation_spec(self) -> specs.BoundedArray:\n",
        "    return specs.BoundedArray(shape=(11,), minimum=-np.inf, maximum=np.inf, dtype=np.float32)\n",
        "\n",
        "  def action_spec(self) -> specs.BoundedArray:\n",
        "    return specs.BoundedArray(shape=(2,), minimum=-1., maximum=1., dtype=np.float32)\n",
        "\n",
        "  def close(self) -> None:\n",
        "    self._env.close()"
      ]
    },
    {
      "cell_type": "markdown",
      "metadata": {
        "id": "HFCMosXsaxwe"
      },
      "source": [
        "### Visualizing with random agent"
      ]
    },
    {
      "cell_type": "code",
      "execution_count": 11,
      "metadata": {
        "id": "DCdbwiEBZRA_"
      },
      "outputs": [],
      "source": [
        "class RandomAgentReacher(Agent):\n",
        "  def __init__(self, environment_spec: specs.EnvironmentSpec) -> None:\n",
        "    self.action_spec = environment_spec.actions\n",
        "\n",
        "  def batched_actor_step(self, observation: types.NestedArray) -> types.NestedArray:\n",
        "    batch_size = tree.flatten(observation)[0].shape[0]\n",
        "    return [[2*np.random.random() - 1, 2*np.random.random() - 1] for _ in range(batch_size)]\n",
        "\n",
        "  def learner_step(self, trajectory: Trajectory) -> Mapping[str, chex.ArrayNumpy]:\n",
        "    pass"
      ]
    },
    {
      "cell_type": "code",
      "execution_count": 12,
      "metadata": {
        "colab": {
          "base_uri": "https://localhost:8080/"
        },
        "id": "t29FosycbEG5",
        "outputId": "910add35-170a-48a6-d26a-8bb9444b27aa"
      },
      "outputs": [
        {
          "output_type": "stream",
          "name": "stdout",
          "text": [
            "env: LD_LIBRARY_PATH=$LD_LIBRARY_PATH:/usr/lib/nvidia\n"
          ]
        }
      ],
      "source": [
        "%set_env LD_LIBRARY_PATH=$LD_LIBRARY_PATH:/usr/lib/nvidia\n",
        "reacher_environment = ReacherEnv(for_evaluation=False)\n",
        "reacher_environment_spec = acme.make_environment_spec(reacher_environment)\n",
        "reacher_random_agent = RandomAgentReacher(reacher_environment_spec)\n",
        "\n",
        "simple_interaction_loop(reacher_random_agent, reacher_environment, 5000)"
      ]
    },
    {
      "cell_type": "markdown",
      "metadata": {
        "id": "84B9BITyoqbT"
      },
      "source": [
        "# Implement Soft-Actor-Critic"
      ]
    },
    {
      "cell_type": "code",
      "execution_count": 13,
      "metadata": {
        "id": "YLM1AyYMbagl"
      },
      "outputs": [],
      "source": [
        "class ValueNetwork(hk.Module):\n",
        "  def __init__(self, output_sizes: Sequence[int], name: Optional[str] = None) -> None:\n",
        "    super().__init__(name=name)\n",
        "    self._output_sizes = output_sizes\n",
        "\n",
        "  def __call__(self, x: chex.Array) -> chex.Array:\n",
        "    h = x\n",
        "    for i, o in enumerate(self._output_sizes):\n",
        "      h = hk.Linear(o)(h)\n",
        "      h = hk.LayerNorm(axis=-1, create_scale=True, create_offset=True)(h)\n",
        "      h = jax.nn.relu(h)\n",
        "    return hk.Linear(1)(h)[..., 0]\n",
        "\n",
        "class SoftQNetwork(hk.Module):\n",
        "  def __init__(self, output_sizes: Sequence[int], name: Optional[str] = None) -> None:\n",
        "    super().__init__(name=name)\n",
        "    self._output_sizes = output_sizes\n",
        "\n",
        "  def __call__(self, x: chex.Array,y: chex.Array) -> chex.Array:\n",
        "    h = jnp.concatenate((x,y),axis=-1)\n",
        "    for i, o in enumerate(self._output_sizes):\n",
        "      h = hk.Linear(o)(h)\n",
        "      h = hk.LayerNorm(axis=-1, create_scale=True, create_offset=True)(h)\n",
        "      h = jax.nn.relu(h)\n",
        "    return hk.Linear(1)(h)[..., 0]\n",
        "\n",
        "class PolicyNetwork(hk.Module):\n",
        "  def __init__(self, output_sizes: Sequence[int], action_spec: specs.BoundedArray, name: Optional[str] = None) -> None:\n",
        "    super().__init__(name=name)\n",
        "    self._output_sizes = output_sizes\n",
        "    self._action_spec = action_spec\n",
        "\n",
        "  def __call__(self, x: chex.Array, ) -> Tuple[chex.Array, chex.Array]:\n",
        "    action_shape = self._action_spec.shape\n",
        "    action_dims = np.prod(action_shape)\n",
        "    h = x\n",
        "    for i, o in enumerate(self._output_sizes):\n",
        "      h = hk.Linear(o)(h)\n",
        "      h = hk.LayerNorm(axis=-1, create_scale=True, create_offset=True)(h)\n",
        "      h = jax.nn.relu(h)\n",
        "    h = hk.Linear(2 * action_dims)(h)\n",
        "    mu, pre_sigma = jnp.split(h, 2, axis=-1)\n",
        "    sigma = jax.nn.softplus(pre_sigma)\n",
        "    return mu,sigma"
      ]
    },
    {
      "cell_type": "code",
      "execution_count": 14,
      "metadata": {
        "id": "cZliyb0MpOuw"
      },
      "outputs": [],
      "source": [
        "LogsDict = Mapping[str, chex.Array]\n",
        "\n",
        "@chex.dataclass\n",
        "class LearnerState:\n",
        "  params: chex.Array\n",
        "  opt_state: optax.OptState\n",
        "\n",
        "class SACAgent(Agent):\n",
        "  def __init__(self, seed: int, learning_rates: Sequence[float], gamma: float, tau: float ,value_output_sizes: Sequence[int], softQ_output_sizes: Sequence[int], policy_output_sizes: Sequence[int], environment_spec: acme.specs.EnvironmentSpec) -> None:\n",
        "    self._rng = jax.random.PRNGKey(seed=seed)\n",
        "    \n",
        "    self._init_loss_softQ1, apply_loss_softQ1 = hk.without_apply_rng(hk.transform(self._loss_function_softQ1))\n",
        "    self._init_loss_softQ2, apply_loss_softQ2 = hk.without_apply_rng(hk.transform(self._loss_function_softQ2))\n",
        "    self._init_loss_policy, apply_loss_policy = hk.without_apply_rng(hk.transform(self._loss_function_policy))\n",
        "    self._init_loss_value, apply_loss_value = hk.without_apply_rng(hk.transform(self._loss_function_value))\n",
        "\n",
        "    self._grad_value = jax.value_and_grad(apply_loss_value, has_aux=True)\n",
        "    self._grad_softQ1 = jax.value_and_grad(apply_loss_softQ1, has_aux=True)\n",
        "    self._grad_softQ2 = jax.value_and_grad(apply_loss_softQ2, has_aux=True)\n",
        "    self._grad_policy = jax.value_and_grad(apply_loss_policy, has_aux=True)\n",
        "    init_value, self._apply_value = hk.without_apply_rng(hk.transform(self._hk_apply_value))\n",
        "    _, self._apply_softQ = hk.without_apply_rng(hk.transform(self._hk_apply_softQ))\n",
        "    init_policy, self._apply_policy = hk.without_apply_rng(hk.transform(self._hk_apply_policy))\n",
        "\n",
        "    self._value_output_sizes = value_output_sizes\n",
        "    self._softQ_output_sizes = softQ_output_sizes\n",
        "    self._policy_output_sizes = policy_output_sizes\n",
        "    self._gamma = gamma\n",
        "    self._environment_spec = environment_spec\n",
        "    self._tau=tau\n",
        "\n",
        "    self._optimizer_value = optax.adam(learning_rate=learning_rates[0])\n",
        "    self._optimizer_softQ1 = optax.adam(learning_rate=learning_rates[1])\n",
        "    self._optimizer_softQ2 = optax.adam(learning_rate=learning_rates[1])\n",
        "    self._optimizer_policy = optax.adam(learning_rate=learning_rates[2])\n",
        "    self.init_fn_value = jax.jit(self._init_fn_value)\n",
        "    self.update_fn_value = jax.jit(self._update_fn_value)\n",
        "    self.init_fn_softQ1 = jax.jit(self._init_fn_softQ1)\n",
        "    self.update_fn_softQ1 = jax.jit(self._update_fn_softQ1)\n",
        "    self.init_fn_softQ2 = jax.jit(self._init_fn_softQ2)\n",
        "    self.update_fn_softQ2 = jax.jit(self._update_fn_softQ2)\n",
        "    self.init_fn_policy = jax.jit(self._init_fn_policy)\n",
        "    self.update_fn_policy = jax.jit(self._update_fn_policy)\n",
        "    self.apply_value = jax.jit(self._apply_value)\n",
        "    self.apply_softQ = jax.jit(self._apply_softQ)\n",
        "    self.apply_policy = jax.jit(self._apply_policy)\n",
        "\n",
        "    _, self.init_rng = jax.random.split(self._rng)\n",
        "    self._value_bar_params= jax.tree_multimap(\n",
        "        lambda x: x*0.,\n",
        "        init_value(self.init_rng,self._generate_dummy_trajectory().observations)\n",
        "    )\n",
        "\n",
        "    _, self.init_rng = jax.random.split(self.init_rng)\n",
        "    init_policy_params= jax.tree_multimap(\n",
        "        lambda x: x*0.,\n",
        "        init_policy(self.init_rng,self._generate_dummy_trajectory().observations)\n",
        "    )\n",
        "    self._learner_state_policy=LearnerState(params=init_policy_params, opt_state=None)\n",
        "\n",
        "    _, self.init_rng = jax.random.split(self.init_rng)\n",
        "    self._learner_state_softQ1 = self._init_fn_softQ1(self.init_rng, self._generate_dummy_trajectory())\n",
        "    self._learner_state_softQ2 = self._init_fn_softQ2(self.init_rng, self._generate_dummy_trajectory())\n",
        "    self._learner_state_policy = self._init_fn_policy(self.init_rng, self._generate_dummy_trajectory())\n",
        "    self._learner_state_value = self._init_fn_value(self.init_rng, self._generate_dummy_trajectory())\n",
        "    \n",
        "\n",
        "\n",
        "  def _init_fn_value(self, rng: chex.PRNGKey, trajectory: Trajectory) -> LearnerState:\n",
        "    params = self._init_loss_value(rng, trajectory)\n",
        "    opt_state = self._optimizer_value.init(params)\n",
        "    return LearnerState(params=params, opt_state=opt_state)\n",
        "\n",
        "  def _update_fn_value(self, learner_state: LearnerState, trajectory: Trajectory) -> Tuple[LearnerState, LogsDict]:\n",
        "    (loss, aux), grads = self._grad_value(learner_state.params, trajectory)\n",
        "    udpates, new_opt_state = self._optimizer_value.update(grads, learner_state.opt_state, learner_state.params)\n",
        "    new_params = optax.apply_updates(learner_state.params, udpates)\n",
        "    return LearnerState(params=new_params, opt_state=new_opt_state), aux\n",
        "\n",
        "  def _init_fn_softQ1(self, rng: chex.PRNGKey, trajectory: Trajectory) -> LearnerState:\n",
        "    params = self._init_loss_softQ1(rng, trajectory)\n",
        "    opt_state = self._optimizer_softQ1.init(params)\n",
        "    return LearnerState(params=params, opt_state=opt_state)\n",
        "\n",
        "  def _update_fn_softQ1(self, learner_state: LearnerState, trajectory: Trajectory) -> Tuple[LearnerState, LogsDict]:\n",
        "    (loss, aux), grads = self._grad_softQ1(learner_state.params, trajectory)\n",
        "    udpates, new_opt_state = self._optimizer_softQ1.update(grads, learner_state.opt_state, learner_state.params)\n",
        "    new_params = optax.apply_updates(learner_state.params, udpates)\n",
        "    return LearnerState(params=new_params, opt_state=new_opt_state), aux\n",
        "\n",
        "  def _init_fn_softQ2(self, rng: chex.PRNGKey, trajectory: Trajectory) -> LearnerState:\n",
        "    params = self._init_loss_softQ2(rng, trajectory)\n",
        "    opt_state = self._optimizer_softQ2.init(params)\n",
        "    return LearnerState(params=params, opt_state=opt_state)\n",
        "\n",
        "  def _update_fn_softQ2(self, learner_state: LearnerState, trajectory: Trajectory) -> Tuple[LearnerState, LogsDict]:\n",
        "    (loss, aux), grads = self._grad_softQ2(learner_state.params, trajectory)\n",
        "    udpates, new_opt_state = self._optimizer_softQ2.update(grads, learner_state.opt_state, learner_state.params)\n",
        "    new_params = optax.apply_updates(learner_state.params, udpates)\n",
        "    return LearnerState(params=new_params, opt_state=new_opt_state), aux\n",
        "\n",
        "  def _init_fn_policy(self, rng: chex.PRNGKey, trajectory: Trajectory) -> LearnerState:\n",
        "    params = self._init_loss_policy(rng, trajectory)\n",
        "    opt_state = self._optimizer_policy.init(params)\n",
        "    return LearnerState(params=params, opt_state=opt_state)\n",
        "\n",
        "  def _update_fn_policy(self, learner_state: LearnerState, trajectory: Trajectory) -> Tuple[LearnerState, LogsDict]:\n",
        "    (loss, aux), grads = self._grad_policy(learner_state.params, trajectory)\n",
        "    udpates, new_opt_state = self._optimizer_policy.update(grads, learner_state.opt_state, learner_state.params)\n",
        "    new_params = optax.apply_updates(learner_state.params, udpates)\n",
        "    return LearnerState(params=new_params, opt_state=new_opt_state), aux\n",
        "\n",
        "  def learner_step(self, trajectory: Trajectory) -> Mapping[str, chex.ArrayNumpy]:\n",
        "    self._learner_state_value, logsV = self.update_fn_value(self._learner_state_value, trajectory)\n",
        "    self._learner_state_softQ1, logsQ1 = self.update_fn_softQ1(self._learner_state_softQ1, trajectory)\n",
        "    self._learner_state_softQ2, logsQ2 = self.update_fn_softQ2(self._learner_state_softQ2, trajectory)\n",
        "    self._learner_state_policy, logsP = self.update_fn_policy(self._learner_state_policy, trajectory)\n",
        "\n",
        "    self._value_bar_params= jax.tree_multimap(\n",
        "        lambda x, y: x * (1 - self._tau) + y * self._tau,\n",
        "        self._value_bar_params,\n",
        "        self._learner_state_value.params\n",
        "        )\n",
        "    \n",
        "    logs=dict()\n",
        "    logs.update(logsV)\n",
        "    logs.update(logsQ1)\n",
        "    logs.update(logsQ2)\n",
        "    logs.update(logsP)\n",
        "    return logs\n",
        "\n",
        "  def _batched_actor_step(self, learner_state: LearnerState, rng: chex.PRNGKey, observations: types.NestedArray, for_eval: bool = False) -> types.NestedArray:\n",
        "    mu, sigma = self.apply_policy(learner_state.params, observations)\n",
        "    if for_eval:\n",
        "      actions = rlax.gaussian_diagonal().sample(rng, mu, 0. * sigma)\n",
        "    else:\n",
        "      actions = rlax.gaussian_diagonal().sample(rng, mu, sigma)\n",
        "    return actions\n",
        "\n",
        "  def _generate_dummy_trajectory(self) -> Trajectory:\n",
        "    observation = self._environment_spec.observations.generate_value()\n",
        "    action = self._environment_spec.actions.generate_value()\n",
        "    def _add_dim(x: types.NestedArray, dim_size: int) -> types.NestedArray:\n",
        "      return jax.tree_map(lambda x: jnp.repeat(x[None], axis=0, repeats=dim_size), x)\n",
        "    _, self.init_rng = jax.random.split(self.init_rng)\n",
        "    return Trajectory(\n",
        "        observations=_add_dim(_add_dim(observation, 2), 2),\n",
        "        actions=_add_dim(_add_dim(action, 2), 2),\n",
        "        rewards=jax.random.uniform(self.init_rng,(2,2)),\n",
        "        dones=jax.random.bernoulli(self.init_rng,shape=(2,2)),\n",
        "        discounts=jax.random.uniform(self.init_rng,(2,2)),\n",
        "    )\n",
        "\n",
        "  def batched_actor_step(self, observations: types.NestedArray, for_eval: bool = False) -> types.NestedArray:\n",
        "    \"\"\"Returns actions in response to observations.\"\"\"\n",
        "    return self._batched_actor_step(self._learner_state_policy, self._rng, observations, for_eval)\n",
        "\n",
        "  def _hk_apply_value(self, observations: types.NestedArray) -> Tuple[chex.Array, chex.Array]:\n",
        "    return ValueNetwork(self._value_output_sizes)(observations)\n",
        "\n",
        "  def _hk_apply_softQ(self, observations: types.NestedArray, actions: types.NestedArray) -> Tuple[chex.Array, chex.Array]:\n",
        "    return SoftQNetwork(self._value_output_sizes)(observations, actions)\n",
        "\n",
        "  def _hk_apply_policy(self, observations: types.NestedArray) -> Tuple[chex.Array, chex.Array]:\n",
        "    return PolicyNetwork(self._policy_output_sizes, self._environment_spec.actions)(observations)\n",
        "\n",
        "  def _loss_function_value(self, trajectory: Trajectory) -> Tuple[chex.Array, LogsDict]:\n",
        "\n",
        "    values = ValueNetwork(self._value_output_sizes)(trajectory.observations)\n",
        "    mu, sigma = self._apply_policy(self._learner_state_policy.params,trajectory.observations)\n",
        "\n",
        "    softQvalues=[]\n",
        "    action_log_probs=[]\n",
        "\n",
        "    for i in range(len(trajectory.observations)):\n",
        "      \n",
        "      actions=rlax.gaussian_diagonal().sample(self._rng, mu, 0. * sigma)\n",
        "      action_log_probs.append(rlax.gaussian_diagonal().logprob(actions, mu, sigma))\n",
        "\n",
        "      softQ1values = self._apply_softQ(self._learner_state_softQ1.params,trajectory.observations,actions)\n",
        "      softQ2values = self._apply_softQ(self._learner_state_softQ2.params,trajectory.observations,actions)\n",
        "      softQvalues.append(jnp.min(jnp.array([softQ1values,softQ2values]),axis=0))\n",
        "      \n",
        "\n",
        "    softQvalues=jnp.array(softQvalues)\n",
        "    action_log_probs=jnp.array(action_log_probs)\n",
        "    value_targets = jnp.mean(softQvalues - action_log_probs,axis=0)\n",
        "    \n",
        "    value_loss = jnp.mean(.5 * jnp.square(values - value_targets))\n",
        "\n",
        "    logs = dict(value_loss=value_loss)\n",
        "    return value_loss, logs\n",
        "\n",
        "  def _loss_function_softQ1(self, trajectory: Trajectory) -> Tuple[chex.Array, LogsDict]:\n",
        "    softQ1values = SoftQNetwork(self._softQ_output_sizes)(trajectory.observations,trajectory.actions)\n",
        "    values = self.apply_value(self._value_bar_params,trajectory.observations)\n",
        "\n",
        "    value_targets = rlax.lambda_returns(\n",
        "        trajectory.rewards[1:].squeeze(),\n",
        "        (self._gamma * trajectory.discounts * (1. - trajectory.dones))[:-1].squeeze(),\n",
        "        values[1:].squeeze()\n",
        "        , stop_target_gradients=True\n",
        "        )\n",
        "    softQ1_loss = jnp.mean(.5 * jnp.square(softQ1values[:-1] - value_targets))\n",
        "\n",
        "    logs = dict(softQ1_loss=softQ1_loss)\n",
        "    return softQ1_loss, logs\n",
        "\n",
        "  def _loss_function_softQ2(self, trajectory: Trajectory) -> Tuple[chex.Array, LogsDict]:\n",
        "    softQ2values = SoftQNetwork(self._softQ_output_sizes)(trajectory.observations,trajectory.actions)\n",
        "    values = self.apply_value(self._value_bar_params,trajectory.observations)\n",
        "\n",
        "    value_targets = rlax.lambda_returns(\n",
        "        trajectory.rewards[1:].squeeze(),\n",
        "        (self._gamma * trajectory.discounts * (1. - trajectory.dones))[:-1].squeeze(),\n",
        "        values[1:].squeeze()\n",
        "        , stop_target_gradients=True\n",
        "        )\n",
        "    softQ2_loss = jnp.mean(.5 * jnp.square(softQ2values[:-1] - value_targets))\n",
        "\n",
        "    logs = dict(softQ2_loss=softQ2_loss)\n",
        "    return softQ2_loss, logs\n",
        "\n",
        "  def _loss_function_policy(self, trajectory: Trajectory) -> Tuple[chex.Array, LogsDict]:\n",
        "    \n",
        "    mu, sigma = PolicyNetwork(self._policy_output_sizes, self._environment_spec.actions)(trajectory.observations)\n",
        "    actions=self.batched_actor_step(trajectory.observations)\n",
        "\n",
        "    softQ1values = self._apply_softQ(self._learner_state_softQ1.params,trajectory.observations,actions)\n",
        "    softQ2values = self._apply_softQ(self._learner_state_softQ2.params,trajectory.observations,actions)\n",
        "    softQvalues = jnp.min(jnp.array([softQ1values,softQ2values]),axis=0)\n",
        "\n",
        "\n",
        "    action_log_probs = rlax.gaussian_diagonal().logprob(actions, mu, sigma)\n",
        "\n",
        "    policy_loss = jnp.mean(action_log_probs-softQvalues)\n",
        "    \n",
        "\n",
        "    logs = dict(policy_loss=policy_loss)\n",
        "    return policy_loss, logs"
      ]
    },
    {
      "cell_type": "markdown",
      "metadata": {
        "id": "VWBJP-vn2_9C"
      },
      "source": [
        "# Training using SAC"
      ]
    },
    {
      "cell_type": "code",
      "execution_count": 15,
      "metadata": {
        "id": "t_V3V7kz2_Dw"
      },
      "outputs": [],
      "source": [
        "def returns(rewards: chex.ArrayNumpy, dones: chex.ArrayNumpy) -> chex.ArrayNumpy:\n",
        "  returns = np.zeros_like(rewards[0], dtype=np.float32)\n",
        "  for r_t, d_t in zip(rewards[::-1], dones[::-1]):\n",
        "    returns = r_t + (1. - d_t) * returns\n",
        "  return returns\n",
        "\n",
        "def sequence_of_timesteps_with_action_to_trajectory(\n",
        "    timesteps_with_actions: Sequence[Tuple[dm_env.TimeStep, chex.Array]],\n",
        ") -> Trajectory:\n",
        "  stacked_timesteps, actions = tree.map_structure(lambda *x: np.stack(x, axis=0), *timesteps_with_actions)\n",
        "  observations = stacked_timesteps.observation[:-1].astype(np.float32)\n",
        "  actions = actions[:-1].astype(np.float32)\n",
        "  rewards = stacked_timesteps.reward[1:].astype(np.float32)\n",
        "  dones = (stacked_timesteps.step_type[1:] == dm_env.StepType.LAST).astype(np.float32)\n",
        "  discounts = stacked_timesteps.discount[1:].astype(np.float32)\n",
        "  return Trajectory(observations=observations, actions=actions, rewards=rewards, dones=dones, discounts=discounts)\n",
        "\n",
        "def sac_interaction_loop(agent: SACAgent, env:dm_env.Environment, max_learner_steps: int, sequence_length: int):\n",
        "  loss_V=[]\n",
        "  loss_Q1=[]\n",
        "  loss_Q2=[]\n",
        "  loss_P=[]\n",
        "  timesteps_with_action = []\n",
        "  for learner_step in range(max_learner_steps):\n",
        "    timesteps_with_action = timesteps_with_action[-1:]\n",
        "    ts = env.reset()\n",
        "    while len(timesteps_with_action) < sequence_length + 1:\n",
        "      actions = agent.batched_actor_step(ts.observation, for_eval=False)\n",
        "      ts = env.step(actions)\n",
        "      timesteps_with_action.append((ts, actions))\n",
        "    trajectory = sequence_of_timesteps_with_action_to_trajectory(timesteps_with_action)\n",
        "    logs = agent.learner_step(trajectory)\n",
        "    loss_V.append(logs['value_loss'])\n",
        "    loss_Q1.append(logs['softQ1_loss'])\n",
        "    loss_Q2.append(logs['softQ2_loss'])\n",
        "    loss_P.append(logs['policy_loss'])\n",
        "  \n",
        "  return   loss_V,loss_Q1,loss_Q2,loss_P\n",
        "\n",
        "\n",
        "def evaluation_interaction_loop(agent: SACAgent, env: dm_env.Environment, sequence_length: int):\n",
        "  rewards = []\n",
        "  dones = []\n",
        "  ts = env.reset()\n",
        "  for learner_step in range(sequence_length):\n",
        "    actions = agent.batched_actor_step(ts.observation)\n",
        "    ts = env.step(actions)\n",
        "    rewards.append(ts.reward)\n",
        "    dones.append(ts.step_type == dm_env.StepType.LAST)\n",
        "  # print(f'Average return: {np.mean(returns(rewards, dones))}')\n",
        "  return np.mean(returns(rewards, dones))"
      ]
    },
    {
      "cell_type": "code",
      "execution_count": null,
      "metadata": {
        "id": "s4c3C_kZ5tMY"
      },
      "outputs": [],
      "source": [
        "from tqdm import trange\n",
        "\n",
        "pendulum_env = PendulumEnv(for_evaluation=False)\n",
        "pendulum_agent = SACAgent(seed=0,\n",
        "                          learning_rates=[3e-5, 1e-6, 3e-5],\n",
        "                          gamma=0.99,\n",
        "                          tau=0.005,\n",
        "                          value_output_sizes=[256, 256],\n",
        "                          softQ_output_sizes=[256, 256],\n",
        "                          policy_output_sizes=[256, 256],\n",
        "                          environment_spec=acme.make_environment_spec(pendulum_env)\n",
        "                          )\n",
        "\n",
        "loss_V,loss_Q1,loss_Q2,loss_P=sac_interaction_loop(pendulum_agent, env=pendulum_env,max_learner_steps=200 ,sequence_length=1000)\n"
      ]
    },
    {
      "cell_type": "code",
      "source": [
        "fig, axs = plt.subplots(2, 2)\n",
        "axs[0, 0].plot(loss_V)\n",
        "axs[0, 0].set_title('loss_V')\n",
        "axs[0, 1].plot(loss_Q1, 'tab:orange')\n",
        "axs[0, 1].set_title('loss_Q1')\n",
        "axs[1, 0].plot(loss_Q2, 'tab:green')\n",
        "axs[1, 0].set_title('loss_Q2')\n",
        "axs[1, 1].plot(loss_P, 'tab:red')\n",
        "axs[1, 1].set_title('loss_P')"
      ],
      "metadata": {
        "id": "AumG4gvPCzE-",
        "colab": {
          "base_uri": "https://localhost:8080/",
          "height": 300
        },
        "outputId": "72af6e79-f50a-4faa-a521-aefeb44174c4"
      },
      "execution_count": 22,
      "outputs": [
        {
          "output_type": "execute_result",
          "data": {
            "text/plain": [
              "Text(0.5, 1.0, 'loss_P')"
            ]
          },
          "metadata": {},
          "execution_count": 22
        },
        {
          "output_type": "display_data",
          "data": {
            "text/plain": [
              "<Figure size 432x288 with 4 Axes>"
            ],
            "image/png": "[encoded data removed]"
          },
          "metadata": {
            "needs_background": "light"
          }
        }
      ]
    },
    {
      "cell_type": "code",
      "source": [
        "loss_V[-1],loss_Q1[-1],loss_Q2[-1],loss_P[-1]"
      ],
      "metadata": {
        "id": "xeUFEFILG1Xp",
        "colab": {
          "base_uri": "https://localhost:8080/"
        },
        "outputId": "02953ee2-6b22-4087-dd64-e23286ab1deb"
      },
      "execution_count": 23,
      "outputs": [
        {
          "output_type": "execute_result",
          "data": {
            "text/plain": [
              "(DeviceArray(0.02, dtype=float32),\n",
              " DeviceArray(14591.242, dtype=float32),\n",
              " DeviceArray(14578.455, dtype=float32),\n",
              " DeviceArray(-832560.1, dtype=float32))"
            ]
          },
          "metadata": {},
          "execution_count": 23
        }
      ]
    },
    {
      "cell_type": "code",
      "source": [
        "iterations = 200\n",
        "av_returns = []\n",
        "for _ in trange(iterations):\n",
        "  av_returns.append(evaluation_interaction_loop(pendulum_agent, env=pendulum_env, sequence_length=1000))\n",
        "plt.plot(av_returns)\n",
        "plt.title(\"Average returns over iterations\")\n",
        "plt.show()"
      ],
      "metadata": {
        "id": "BM2RDWRc53Ua",
        "colab": {
          "base_uri": "https://localhost:8080/"
        },
        "outputId": "479f2907-a922-4280-98a1-d90be089a1eb"
      },
      "execution_count": null,
      "outputs": [
        {
          "output_type": "stream",
          "name": "stderr",
          "text": [
            " 65%|██████▌   | 130/200 [35:36<19:06, 16.37s/it]"
          ]
        }
      ]
    },
    {
      "cell_type": "code",
      "execution_count": 25,
      "metadata": {
        "id": "9d4F3zTd6D0d"
      },
      "outputs": [],
      "source": [
        "reacher_env = ReacherEnv(for_evaluation=False)\n",
        "reacher_agent = SACAgent(seed=0,\n",
        "                          learning_rates=[5e-4, 5e-4, 5e-4],\n",
        "                          gamma=0.95,\n",
        "                          tau=0.005,\n",
        "                          value_output_sizes=[256, 256],\n",
        "                          softQ_output_sizes=[256, 256],\n",
        "                          policy_output_sizes=[256, 256],\n",
        "                          environment_spec=acme.make_environment_spec(reacher_env)\n",
        "                          )\n",
        "iterations = -1\n",
        "for _ in range(iterations):\n",
        "  evaluation_interaction_loop(reacher_agent, env=reacher_env, sequence_length=200)"
      ]
    },
    {
      "cell_type": "code",
      "source": [
        ""
      ],
      "metadata": {
        "id": "e19IZYQfVp5y"
      },
      "execution_count": 25,
      "outputs": []
    }
  ],
  "metadata": {
    "accelerator": "GPU",
    "colab": {
      "collapsed_sections": [],
      "name": "DeepRL_Projet_Eljandoubi_Faye_Forghieri.ipynb",
      "provenance": []
    },
    "kernelspec": {
      "display_name": "Python 3",
      "name": "python3"
    },
    "language_info": {
      "name": "python"
    }
  },
  "nbformat": 4,
  "nbformat_minor": 0
}